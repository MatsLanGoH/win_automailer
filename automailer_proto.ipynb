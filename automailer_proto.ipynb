{
 "cells": [
  {
   "cell_type": "code",
   "execution_count": null,
   "metadata": {},
   "outputs": [],
   "source": [
    "\"\"\"\n",
    "Todos\n",
    "- [ ] Update requirements.txt\n",
    "- [ ] Test anaconda\n",
    "\n",
    "Questions\n",
    "\n",
    "- [?] Can we install pywin32?\n",
    "- [?] Where is our item name?\n",
    "- [ ] What's the cutoff date? Just in the past? Older than x months?\n",
    "- [ ] What's the subject line?\n",
    "\"\"\""
   ]
  },
  {
   "cell_type": "code",
   "execution_count": 1,
   "metadata": {},
   "outputs": [],
   "source": [
    "# Important: To get win32 working, we need to do the following steps\n",
    "# Using pip:\n",
    "# pip install pypiwin32\n",
    "# Then open an administrator shell and do\n",
    "# venv\\Scripts\\activate\n",
    "# python venv\\Scripts\\pywin32_postinstall.py -install\n",
    "\n",
    "import win32com.client as win32\n",
    "import os\n",
    "import psutil\n",
    "import subprocess\n",
    "import pandas as pd\n",
    "\n",
    "from dataclasses import dataclass\n",
    "from template import MAIL_SUBJECT, MAIL_BODY"
   ]
  },
  {
   "cell_type": "code",
   "execution_count": 2,
   "metadata": {},
   "outputs": [
    {
     "data": {
      "text/html": [
       "<div>\n",
       "<style scoped>\n",
       "    .dataframe tbody tr th:only-of-type {\n",
       "        vertical-align: middle;\n",
       "    }\n",
       "\n",
       "    .dataframe tbody tr th {\n",
       "        vertical-align: top;\n",
       "    }\n",
       "\n",
       "    .dataframe thead th {\n",
       "        text-align: right;\n",
       "    }\n",
       "</style>\n",
       "<table border=\"1\" class=\"dataframe\">\n",
       "  <thead>\n",
       "    <tr style=\"text-align: right;\">\n",
       "      <th></th>\n",
       "      <th>art</th>\n",
       "      <th>language</th>\n",
       "      <th>supplier</th>\n",
       "      <th>last_update</th>\n",
       "      <th>vendor_master.salutation</th>\n",
       "      <th>vendor_master.email</th>\n",
       "    </tr>\n",
       "  </thead>\n",
       "  <tbody>\n",
       "    <tr>\n",
       "      <th>0</th>\n",
       "      <td>RX072299</td>\n",
       "      <td>EN</td>\n",
       "      <td>ADEKA CORPORATION（昭和興産株式会社）</td>\n",
       "      <td>2019-01-28</td>\n",
       "      <td>昭和興産株式会社</td>\n",
       "      <td>kazuhiro.kamehameha@nagase.co.jp</td>\n",
       "    </tr>\n",
       "    <tr>\n",
       "      <th>1</th>\n",
       "      <td>RX084154</td>\n",
       "      <td>EN</td>\n",
       "      <td>DAICEL CORPORATION（森六ケミカルズ株式会社）</td>\n",
       "      <td>2019-04-15</td>\n",
       "      <td>森六ケミカルズ株式会社</td>\n",
       "      <td>igor.susak@basf.com</td>\n",
       "    </tr>\n",
       "    <tr>\n",
       "      <th>2</th>\n",
       "      <td>RX084170</td>\n",
       "      <td>EN</td>\n",
       "      <td>DAICEL CORPORATION（森六ケミカルズ株式会社）</td>\n",
       "      <td>2019-04-15</td>\n",
       "      <td>森六ケミカルズ株式会社</td>\n",
       "      <td>igor.susak@basf.com</td>\n",
       "    </tr>\n",
       "  </tbody>\n",
       "</table>\n",
       "</div>"
      ],
      "text/plain": [
       "        art language                         supplier last_update  \\\n",
       "0  RX072299       EN      ADEKA CORPORATION（昭和興産株式会社）  2019-01-28   \n",
       "1  RX084154       EN  DAICEL CORPORATION（森六ケミカルズ株式会社）  2019-04-15   \n",
       "2  RX084170       EN  DAICEL CORPORATION（森六ケミカルズ株式会社）  2019-04-15   \n",
       "\n",
       "  vendor_master.salutation               vendor_master.email  \n",
       "0                 昭和興産株式会社  kazuhiro.kamehameha@nagase.co.jp  \n",
       "1              森六ケミカルズ株式会社               igor.susak@basf.com  \n",
       "2              森六ケミカルズ株式会社               igor.susak@basf.com  "
      ]
     },
     "execution_count": 2,
     "metadata": {},
     "output_type": "execute_result"
    }
   ],
   "source": [
    "# Read input file\n",
    "EXCEL_INPUT_FILE = \"EC_SDS_TESTFILE.xlsx\"\n",
    "\n",
    "excel_workbook = pd.read_excel(EXCEL_INPUT_FILE)\n",
    "excel_workbook\n",
    "\n",
    "# TODO: Filter by `last_update` (last_update needs to be older than x)\n",
    "# \n",
    "# TODO: "
   ]
  },
  {
   "cell_type": "code",
   "execution_count": 12,
   "metadata": {},
   "outputs": [],
   "source": [
    "# Set environment variables\n",
    "OUTLOOK_APP_PATH = '\"C:/Program Files/Microsoft Office/root/Office16/OUTLOOK.EXE\"'\n",
    "OUTLOOK_APP_NAME = 'OUTLOOK.EXE'\n",
    "\n",
    "# Email dataclass\n",
    "@dataclass\n",
    "class Email:\n",
    "    sendTo: str\n",
    "    subject: str\n",
    "    body: str\n",
    "\n",
    "# Item dataclass\n",
    "@dataclass\n",
    "class Item:\n",
    "    modifiedDate: str  # TODO: Change to date object\n",
    "    itemNo: str\n",
    "    itemName: str\n",
    "    supplierName: str\n",
    "    \n",
    "    def createMessage(self) -> str:\n",
    "#         return f\"\"\"\n",
    "#         Dear {self.supplierName}\n",
    "        \n",
    "#         Please send us new data for {self.itemName} [#{self.itemNo}],\n",
    "#         which has expired since {self.modifiedDate}.\n",
    "#         \"\"\"\n",
    "    \n",
    "        return f\"\"\"お取引先様各位\n",
    "\n",
    "いつもお世話になっております。\n",
    "\n",
    "現在弊社システムの定期的なメンテナンスを行っており、最新版のSDSを集めております。\n",
    "つきましては貴社より購入しております、下記製品の和文と英文の両方のSDSの御提供をお願い致します。\n",
    "{self.itemName} [#{self.itemNo}]\n",
    "\n",
    "なお、以前に頂戴したSDSが弊社のシステムにあり記載されている改訂日が下記の通りです。\n",
    "{self.modifiedDate}\n",
    "\n",
    "改訂されていない場合はその旨お知らせいただければ幸いでございます。\n",
    "お忙しいところ恐れ入りますが、ご協力のほど何卒よろしくお願い申し上げます。\n",
    "\"\"\""
   ]
  },
  {
   "cell_type": "code",
   "execution_count": 13,
   "metadata": {},
   "outputs": [],
   "source": [
    "def open_outlook(path: str) -> None:\n",
    "    \"\"\" Tries to open Outlook App from given path\n",
    "    \"\"\"\n",
    "    try:\n",
    "        subprocess.Popen(OUTLOOK_APP_PATH)\n",
    "    except FileNotFoundError as e:\n",
    "        print(f\"Error: File not found at {OUTLOOK_APP_PATH}\")\n",
    "\n",
    "def app_is_running(app_name: str) -> bool:\n",
    "    \"\"\" Checks running processes to see if a given app is running.\n",
    "    Returns:\n",
    "        True -- if app is running else False\n",
    "    \"\"\"\n",
    "    # Get names for all running processes\n",
    "    running_processes = (psutil.Process(pid).name() for pid in psutil.pids())\n",
    "        \n",
    "    for process in running_processes:\n",
    "        if app_name in process:\n",
    "            return True\n",
    "\n",
    "    return False\n",
    "\n",
    "def create_draft(mail: Email) -> None:\n",
    "    \"\"\"Takes an Email dataclass and saves a draft email.\n",
    "    \"\"\"\n",
    "    outlook = win32.Dispatch('outlook.application')\n",
    "    draft = outlook.CreateItem(0)\n",
    "    draft.To = mail.sendTo\n",
    "    draft.Subject = mail.subject\n",
    "    draft.body = mail.body\n",
    "    draft.save()\n"
   ]
  },
  {
   "cell_type": "code",
   "execution_count": 14,
   "metadata": {},
   "outputs": [
    {
     "name": "stdout",
     "output_type": "stream",
     "text": [
      "OUTLOOK.EXE is already running.\n"
     ]
    }
   ],
   "source": [
    "# Make sure we've got an email client running\n",
    "if not app_is_running(OUTLOOK_APP_NAME):\n",
    "    print(\"App not running, opening now.\")\n",
    "    open_outlook(OUTLOOK_APP_PATH)\n",
    "else:\n",
    "    print(f\"{OUTLOOK_APP_NAME} is already running.\")"
   ]
  },
  {
   "cell_type": "code",
   "execution_count": 15,
   "metadata": {},
   "outputs": [],
   "source": [
    "# Create a test item\n",
    "test_item = Item(\n",
    "    '2019/04/14',\n",
    "    '1234',\n",
    "    'Ice Cream',\n",
    "    'Mr. Freeze',\n",
    ")\n",
    "\n",
    "# Create a test email\n",
    "test_mail = Email(\n",
    "    'test@example.com',\n",
    "    'Dataclass Email Test',\n",
    "    test_item.createMessage(),\n",
    ")"
   ]
  },
  {
   "cell_type": "code",
   "execution_count": 16,
   "metadata": {},
   "outputs": [],
   "source": [
    "create_draft(test_mail)"
   ]
  }
 ],
 "metadata": {
  "kernelspec": {
   "display_name": "Python 3",
   "language": "python",
   "name": "python3"
  },
  "language_info": {
   "codemirror_mode": {
    "name": "ipython",
    "version": 3
   },
   "file_extension": ".py",
   "mimetype": "text/x-python",
   "name": "python",
   "nbconvert_exporter": "python",
   "pygments_lexer": "ipython3",
   "version": "3.7.3"
  }
 },
 "nbformat": 4,
 "nbformat_minor": 2
}
