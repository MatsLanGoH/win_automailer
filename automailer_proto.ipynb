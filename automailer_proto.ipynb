{
 "cells": [
  {
   "cell_type": "code",
   "execution_count": 7,
   "metadata": {},
   "outputs": [],
   "source": [
    "import win32com.client as win32\n",
    "import os\n",
    "import psutil\n",
    "import subprocess\n",
    "\n",
    "from dataclasses import dataclass"
   ]
  },
  {
   "cell_type": "code",
   "execution_count": 8,
   "metadata": {},
   "outputs": [],
   "source": [
    "# Set environment variables\n",
    "OUTLOOK_APP_PATH = '\"C:/Program Files/Microsoft Office/root/Office16/OUTLOOK.EXE\"'\n",
    "OUTLOOK_APP_NAME = 'OUTLOOK.EXE'\n",
    "\n",
    "# Email dataclass\n",
    "@dataclass\n",
    "class Email:\n",
    "    sendTo: str\n",
    "    subject: str\n",
    "    body: str\n",
    "\n",
    "# Item dataclass\n",
    "@dataclass\n",
    "class Item:\n",
    "    modifiedDate: str  # TODO: Change to date object\n",
    "    itemNo: str\n",
    "    itemName: str\n",
    "    supplierName: str\n",
    "    \n",
    "    def createMessage(self) -> str:\n",
    "        return f\"\"\"\n",
    "        Dear {self.supplierName}\n",
    "        \n",
    "        Please send us new data for {self.itemName} [#{self.itemNo}],\n",
    "        which has expired since {self.modifiedDate}.\n",
    "        \"\"\"\n"
   ]
  },
  {
   "cell_type": "code",
   "execution_count": 9,
   "metadata": {},
   "outputs": [],
   "source": [
    "def open_outlook(path: str) -> None:\n",
    "    \"\"\" Tries to open Outlook App from given path\n",
    "    \"\"\"\n",
    "    try:\n",
    "        subprocess.Popen(OUTLOOK_APP_PATH)\n",
    "    except FileNotFoundError as e:\n",
    "        print(f\"Error: File not found at {OUTLOOK_APP_PATH}\")\n",
    "\n",
    "def app_is_running(app_name: str) -> bool:\n",
    "    \"\"\" Checks running processes to see if a given app is running.\n",
    "    Returns:\n",
    "        True -- if app is running else False\n",
    "    \"\"\"\n",
    "    # Get names for all running processes\n",
    "    running_processes = (psutil.Process(pid).name() for pid in psutil.pids())\n",
    "        \n",
    "    for process in running_processes:\n",
    "        if app_name in process:\n",
    "            return True\n",
    "\n",
    "    return False\n",
    "\n",
    "def create_draft(mail: Email) -> None:\n",
    "    \"\"\"Takes an Email dataclass and saves a draft email.\n",
    "    \"\"\"\n",
    "    outlook = win32.Dispatch('outlook.application')\n",
    "    draft = outlook.CreateItem(0)\n",
    "    draft.To = mail.sendTo\n",
    "    draft.Subject = mail.subject\n",
    "    draft.body = mail.body\n",
    "    draft.save()\n"
   ]
  },
  {
   "cell_type": "code",
   "execution_count": 10,
   "metadata": {},
   "outputs": [
    {
     "name": "stdout",
     "output_type": "stream",
     "text": [
      "OUTLOOK.EXE is already running.\n"
     ]
    }
   ],
   "source": [
    "# Make sure we've got an email client running\n",
    "if not app_is_running(OUTLOOK_APP_NAME):\n",
    "    print(\"App not running, opening now.\")\n",
    "    open_outlook(OUTLOOK_APP_PATH)\n",
    "else:\n",
    "    print(f\"{OUTLOOK_APP_NAME} is already running.\")"
   ]
  },
  {
   "cell_type": "code",
   "execution_count": 11,
   "metadata": {},
   "outputs": [],
   "source": [
    "# Create a test item\n",
    "test_item = Item(\n",
    "    '2019/04/14',\n",
    "    '1234',\n",
    "    'Ice Cream',\n",
    "    'Mr. Freeze',\n",
    ")\n",
    "\n",
    "# Create a test email\n",
    "test_mail = Email(\n",
    "    'test@example.com',\n",
    "    'Dataclass Email Test',\n",
    "    test_item.createMessage(),\n",
    ")"
   ]
  },
  {
   "cell_type": "code",
   "execution_count": 12,
   "metadata": {},
   "outputs": [],
   "source": [
    "create_draft(test_mail)"
   ]
  }
 ],
 "metadata": {
  "kernelspec": {
   "display_name": "Python 3",
   "language": "python",
   "name": "python3"
  },
  "language_info": {
   "codemirror_mode": {
    "name": "ipython",
    "version": 3
   },
   "file_extension": ".py",
   "mimetype": "text/x-python",
   "name": "python",
   "nbconvert_exporter": "python",
   "pygments_lexer": "ipython3",
   "version": "3.7.2"
  }
 },
 "nbformat": 4,
 "nbformat_minor": 2
}
