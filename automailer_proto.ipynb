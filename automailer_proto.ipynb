{
 "cells": [
  {
   "cell_type": "code",
   "execution_count": 26,
   "metadata": {},
   "outputs": [],
   "source": [
    "import win32com.client as win32\n",
    "import os\n",
    "import psutil\n",
    "import subprocess"
   ]
  },
  {
   "cell_type": "code",
   "execution_count": 30,
   "metadata": {},
   "outputs": [],
   "source": [
    "# Set environment variables\n",
    "OUTLOOK_APP_PATH = '\"C:/Program Files/Microsoft Office/root/Office16/OUTLOOK.EXE\"'\n",
    "OUTLOOK_APP_NAME = 'OUTLOOK.EXE'\n"
   ]
  },
  {
   "cell_type": "code",
   "execution_count": 34,
   "metadata": {},
   "outputs": [],
   "source": [
    "def open_outlook(path: str) -> None:\n",
    "    \"\"\" Tries to open Outlook App from given path\n",
    "    \"\"\"\n",
    "    try:\n",
    "        subprocess.Popen(OUTLOOK_APP_PATH)\n",
    "    except FileNotFoundError as e:\n",
    "        print(f\"Error: File not found at {OUTLOOK_APP_PATH}\")\n",
    "\n",
    "def app_is_running(app_name: str) -> bool:\n",
    "    \"\"\" Checks running processes to see if a given app is running.\n",
    "    Returns:\n",
    "        True -- if app is running else False\n",
    "    \"\"\"\n",
    "    # Get names for all running processes\n",
    "    running_processes = (psutil.Process(pid).name() for pid in psutil.pids())\n",
    "        \n",
    "    for process in running_processes:\n",
    "        if app_name in process:\n",
    "            return True\n",
    "\n",
    "    return False"
   ]
  },
  {
   "cell_type": "code",
   "execution_count": 36,
   "metadata": {},
   "outputs": [
    {
     "name": "stdout",
     "output_type": "stream",
     "text": [
      "OUTLOOK.EXE is already running.\n"
     ]
    }
   ],
   "source": [
    "if not app_is_running(OUTLOOK_APP_NAME):\n",
    "    print(\"App not running, opening now.\")\n",
    "    open_outlook(OUTLOOK_APP_PATH)\n",
    "else:\n",
    "    print(f\"{OUTLOOK_APP_NAME} is already running.\")\n"
   ]
  },
  {
   "cell_type": "code",
   "execution_count": null,
   "metadata": {},
   "outputs": [],
   "source": []
  },
  {
   "cell_type": "code",
   "execution_count": null,
   "metadata": {},
   "outputs": [],
   "source": []
  }
 ],
 "metadata": {
  "kernelspec": {
   "display_name": "Python 3",
   "language": "python",
   "name": "python3"
  },
  "language_info": {
   "codemirror_mode": {
    "name": "ipython",
    "version": 3
   },
   "file_extension": ".py",
   "mimetype": "text/x-python",
   "name": "python",
   "nbconvert_exporter": "python",
   "pygments_lexer": "ipython3",
   "version": "3.7.2"
  }
 },
 "nbformat": 4,
 "nbformat_minor": 2
}
